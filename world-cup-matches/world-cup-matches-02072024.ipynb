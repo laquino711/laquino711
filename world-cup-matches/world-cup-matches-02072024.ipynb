{
 "cells": [
  {
   "cell_type": "markdown",
   "metadata": {},
   "source": [
    "# My First Notebook"
   ]
  },
  {
   "cell_type": "code",
   "execution_count": null,
   "metadata": {},
   "outputs": [],
   "source": [
    "#print(\"Thank you Lord for all the wisdom and blessings that you are giving me.\")\n",
    "\n",
    "#import pandas as pd\n",
    "import pandas as pd\n",
    "import os\n",
    "import numpy as np\n",
    "\n",
    "#import csv\n",
    "df_matches = pd.read_csv('WorldCupMatches.csv')\n",
    "\n",
    "#read/display csv output\n",
    "df_matches\n"
   ]
  },
  {
   "cell_type": "code",
   "execution_count": null,
   "metadata": {},
   "outputs": [],
   "source": [
    "#renaming columns\n",
    "df_matches = df_matches.rename(columns = {'Home Team Name' : 'Home Team', 'Away Team Name' : 'Away Team' })\n",
    "\n",
    "#displaying renamed columns\n",
    "df_matches.head()"
   ]
  },
  {
   "cell_type": "code",
   "execution_count": null,
   "metadata": {},
   "outputs": [],
   "source": [
    "#check null values\n",
    "#df_matches.isnull().any()\n",
    "\n",
    "#check specific columns for nulls\n",
    "#df_matches[df_matches['Home Team'].isna()==1]"
   ]
  },
  {
   "cell_type": "code",
   "execution_count": null,
   "metadata": {},
   "outputs": [],
   "source": [
    "#filtering based on multiple columns using loc\n",
    "#df_matches = df_matches.loc[df_matches['Year'].eq(1930) & df_matches['Home Team'].eq('France') & df_matches['Away Team'].eq('Mexico') & df_matches['Home Team Goals'].eq(4.0) & df_matches['Away Team Goals'].eq(1.0) & df_matches['Referee'].eq('LOMBARDI Domingo (URU)')]\n",
    "\n",
    "#df_matches"
   ]
  },
  {
   "cell_type": "code",
   "execution_count": null,
   "metadata": {},
   "outputs": [],
   "source": [
    "#separating referee name and nationality\n",
    "df_matches['Referee Nationality'] = df_matches['Referee'].str.split(pat ='(').str[1]\n",
    "\n",
    "df_matches['Referee'] = df_matches['Referee'].str.split(pat ='(').str[0]\n",
    "\n",
    "#removing parenthesis from Referee Nationality\n",
    "df_matches['Referee Nationality'] = df_matches['Referee Nationality'].str.replace(')', '')\n",
    "\n",
    "df_matches.head()"
   ]
  },
  {
   "cell_type": "code",
   "execution_count": null,
   "metadata": {},
   "outputs": [],
   "source": [
    "#format Referee name so first name is first instead of last name\n",
    "#df_matches['Referee'] = df_matches['Referee'].str.split(' ').str[1] + ' ' + df_matches['Referee'].str.split(' ').str[0]\n",
    "\n",
    "#format Referee name using title case...example Luis Aquino\n",
    "df_matches['Referee'] = df_matches['Referee'].str.title()\n",
    "\n",
    "df_matches.head()"
   ]
  },
  {
   "cell_type": "code",
   "execution_count": null,
   "metadata": {},
   "outputs": [],
   "source": [
    "#drop unneeded columns\n",
    "df_matches = df_matches.drop(['Home Team Initials', 'Away Team Initials'], axis = 1)\n",
    "\n",
    "df_matches.head()"
   ]
  },
  {
   "cell_type": "code",
   "execution_count": null,
   "metadata": {},
   "outputs": [],
   "source": [
    "df_matches = df_matches[df_matches[['RoundID', 'MatchID']].notnull().all(1)]\n",
    "df_matches.head()"
   ]
  },
  {
   "cell_type": "code",
   "execution_count": null,
   "metadata": {},
   "outputs": [],
   "source": [
    "#assigning correct data types\n",
    "df_matches['RoundID'] = df_matches['RoundID'].astype(int)\n",
    "\n",
    "df_matches.dtypes"
   ]
  },
  {
   "cell_type": "code",
   "execution_count": null,
   "metadata": {},
   "outputs": [],
   "source": [
    "#configuring data types in batch\n",
    "df_matches = df_matches.astype({'Year':'int', 'Home Team Goals':'int', 'Away Team Goals':'int', 'Half-time Home Goals':'int', 'Half-time Away Goals':'int', 'RoundID':'int', 'MatchID':'int'})\n",
    "\n",
    "df_matches.dtypes"
   ]
  },
  {
   "cell_type": "code",
   "execution_count": null,
   "metadata": {},
   "outputs": [],
   "source": [
    "#replace null values in Attendance or blanks\n",
    "#df_matches['Attendance'] = df_matches['Attendance'].str.replace('', 0)\n",
    "\n",
    "df_matches['Attendance'] = df_matches['Attendance'].astype(str)\n",
    "\n",
    "df_matches['Attendance']"
   ]
  },
  {
   "cell_type": "code",
   "execution_count": null,
   "metadata": {},
   "outputs": [],
   "source": [
    "#replace blanks with 0 in Attendance column then format as integer\n",
    "df_matches['Attendance'] = df_matches['Attendance'].str.replace(' ', '0.0')\n",
    "\n",
    "df_matches.dtypes"
   ]
  },
  {
   "cell_type": "code",
   "execution_count": null,
   "metadata": {},
   "outputs": [],
   "source": [
    "df_matches.head()"
   ]
  },
  {
   "cell_type": "code",
   "execution_count": null,
   "metadata": {},
   "outputs": [],
   "source": [
    "#separating Assitant1 and nationality\n",
    "df_matches['Assistant1'] = df_matches['Assistant 1'].str.split(pat ='(').str[0]\n",
    "\n",
    "df_matches['Assistant1_Nationality'] = df_matches['Assistant 1'].str.split(pat='(').str[1]\n",
    "\n",
    "df_matches.head()\n"
   ]
  },
  {
   "cell_type": "code",
   "execution_count": null,
   "metadata": {},
   "outputs": [],
   "source": [
    "#df_matches['Assistant1_Nationality'] = \n",
    "df_matches['Assistant1_Nationality'] = df_matches['Assistant1_Nationality'].str.replace(')', '')\n",
    "\n",
    "df_matches"
   ]
  },
  {
   "cell_type": "code",
   "execution_count": null,
   "metadata": {},
   "outputs": [],
   "source": [
    "#separating Assitant1 and nationality\n",
    "df_matches['Assistant2'] = df_matches['Assistant 2'].str.split(pat ='(').str[0]\n",
    "\n",
    "df_matches['Assistant2_Nationality'] = df_matches['Assistant 2'].str.split(pat='(').str[1]\n",
    "\n",
    "df_matches['Assistant2_Nationality'] = df_matches['Assistant2_Nationality'].str.replace(')', '')\n",
    "\n",
    "df_matches.head()"
   ]
  },
  {
   "cell_type": "code",
   "execution_count": null,
   "metadata": {},
   "outputs": [],
   "source": [
    "#format Referee name so first name is first instead of last name\n",
    "#df_matches['Assistant1'] = df_matches['Assistant1'].str.split(' ').str[1] + ' ' + df_matches['Assistant1'].str.split(' ').str[0]\n"
   ]
  },
  {
   "cell_type": "code",
   "execution_count": null,
   "metadata": {},
   "outputs": [],
   "source": [
    "#format Referee name using title case...example Luis Aquino\n",
    "df_matches['Assistant1'] = df_matches['Assistant1'].str.title()\n",
    "\n",
    "df_matches.head()"
   ]
  },
  {
   "cell_type": "code",
   "execution_count": null,
   "metadata": {},
   "outputs": [],
   "source": [
    "#format Referee name so first name is first instead of last name\n",
    "#df_matches['Assistant2'] = df_matches['Assistant2'].str.split(' ').str[1] + ' ' + df_matches['Assistant2'].str.split(' ').str[0]\n",
    "df_matches.head()"
   ]
  },
  {
   "cell_type": "code",
   "execution_count": null,
   "metadata": {},
   "outputs": [],
   "source": [
    "#format Assistant2 in title format, example Luis Aquino \n",
    "df_matches['Assistant2'] = df_matches['Assistant2'].str.title()\n",
    "df_matches.head()"
   ]
  },
  {
   "cell_type": "code",
   "execution_count": null,
   "metadata": {},
   "outputs": [],
   "source": [
    "#dropping columns\n",
    "#df_matches = df_matches.drop(['Assistant 1', 'Assistant 2'], axis = 1)\n",
    "\n",
    "#renaming columns\n",
    "df_matches = df_matches.rename(columns = {'Home Team' : 'Home_Team', 'Away Team' : 'Away_Team', 'Home Team Goals': 'Home_Team_Goals', 'Away Team Goals': 'Away_Team_Goals', 'Win conditions': 'Win_Conditions', 'Referee Nationality': 'Referee_Nationality' })\n",
    "\n",
    "#displaying renamed columns\n",
    "df_matches.head()"
   ]
  },
  {
   "cell_type": "code",
   "execution_count": null,
   "metadata": {},
   "outputs": [],
   "source": [
    "df_matches_new = df_matches.drop_duplicates()"
   ]
  },
  {
   "cell_type": "code",
   "execution_count": null,
   "metadata": {},
   "outputs": [],
   "source": [
    "#filtering to see how many records are in the dataframe for this record\n",
    "#df_matches_new.loc[df_matches['MatchID'].eq(300186497)]"
   ]
  },
  {
   "cell_type": "code",
   "execution_count": null,
   "metadata": {},
   "outputs": [],
   "source": [
    "#defining function to check if a string from home_team or away_team is contained in win_conditions column\n",
    "def team_check(row):\n",
    "    if row['Home_Team_Goals'] > row['Away_Team_Goals']:\n",
    "        return row['Home_Team']\n",
    "    \n",
    "    elif row['Home_Team_Goals'] < row['Away_Team_Goals']:\n",
    "        return row['Away_Team'] \n",
    "\n",
    "    elif row['Away_Team'] in row['Win_Conditions']:\n",
    "        return row['Away_Team']\n",
    "    \n",
    "    elif row['Home_Team'] in row['Win_Conditions']:\n",
    "        return row['Home_Team']\n",
    "\n",
    "    else: ''\n",
    "\n",
    "df_matches_new['Winner'] = df_matches_new.apply(team_check, axis = 1)\n",
    "\n",
    "df_matches_new.tail(10)"
   ]
  },
  {
   "cell_type": "code",
   "execution_count": null,
   "metadata": {},
   "outputs": [],
   "source": [
    "df_matches_new = df_matches.drop(['Assistant 1', 'Assistant 2'], axis = 1)\n",
    "df_matches_new"
   ]
  },
  {
   "cell_type": "code",
   "execution_count": null,
   "metadata": {},
   "outputs": [],
   "source": [
    "#save dataframe as csv\n",
    "df_matches_new.to_csv(r'C:\\Users\\luis1\\sources\\laquino711\\world-cup-matches\\WorldCupMatches_df_new.csv')"
   ]
  },
  {
   "cell_type": "code",
   "execution_count": null,
   "metadata": {},
   "outputs": [],
   "source": [
    "#MatchID = 300186460\n"
   ]
  }
 ],
 "metadata": {
  "kernelspec": {
   "display_name": "Python 3",
   "language": "python",
   "name": "python3"
  },
  "language_info": {
   "codemirror_mode": {
    "name": "ipython",
    "version": 3
   },
   "file_extension": ".py",
   "mimetype": "text/x-python",
   "name": "python",
   "nbconvert_exporter": "python",
   "pygments_lexer": "ipython3",
   "version": "3.12.2"
  }
 },
 "nbformat": 4,
 "nbformat_minor": 2
}
